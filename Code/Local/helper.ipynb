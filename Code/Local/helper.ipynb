{
 "cells": [
  {
   "cell_type": "code",
   "execution_count": 48,
   "metadata": {},
   "outputs": [],
   "source": [
    "import geopandas as gpd"
   ]
  },
  {
   "cell_type": "code",
   "execution_count": 49,
   "metadata": {},
   "outputs": [
    {
     "name": "stderr",
     "output_type": "stream",
     "text": [
      "c:\\Users\\Ivan\\AppData\\Local\\Programs\\Python\\Python39\\lib\\site-packages\\geopandas\\array.py:85: ShapelyDeprecationWarning: __len__ for multi-part geometries is deprecated and will be removed in Shapely 2.0. Check the length of the `geoms` property instead to get the  number of parts of a multi-part geometry.\n",
      "  aout[:] = out\n"
     ]
    }
   ],
   "source": [
    "df = gpd.read_file('C:\\\\Users\\\\Ivan\\\\Desktop\\\\Maestria\\\\Big Data\\\\Proyecto Final\\\\Datasets\\\\Consumo Agua Bimestral\\\\Consumo_hab_prom_agua_col.shp')"
   ]
  },
  {
   "cell_type": "code",
   "execution_count": 50,
   "metadata": {},
   "outputs": [
    {
     "data": {
      "text/html": [
       "<div>\n",
       "<style scoped>\n",
       "    .dataframe tbody tr th:only-of-type {\n",
       "        vertical-align: middle;\n",
       "    }\n",
       "\n",
       "    .dataframe tbody tr th {\n",
       "        vertical-align: top;\n",
       "    }\n",
       "\n",
       "    .dataframe thead th {\n",
       "        text-align: right;\n",
       "    }\n",
       "</style>\n",
       "<table border=\"1\" class=\"dataframe\">\n",
       "  <thead>\n",
       "    <tr style=\"text-align: right;\">\n",
       "      <th></th>\n",
       "      <th>cve_ent</th>\n",
       "      <th>alcaldia</th>\n",
       "      <th>cve_col</th>\n",
       "      <th>colonia</th>\n",
       "      <th>OBJECTID</th>\n",
       "      <th>FREQUENCY</th>\n",
       "      <th>SUM_cons_t</th>\n",
       "      <th>MEAN_cons_</th>\n",
       "      <th>VIV2010</th>\n",
       "      <th>PROMVIVCON</th>\n",
       "      <th>C_PROMVIVC</th>\n",
       "      <th>geometry</th>\n",
       "    </tr>\n",
       "  </thead>\n",
       "  <tbody>\n",
       "    <tr>\n",
       "      <th>0</th>\n",
       "      <td>09</td>\n",
       "      <td>AZCAPOTZALCO</td>\n",
       "      <td>02-001</td>\n",
       "      <td>AGUILERA</td>\n",
       "      <td>2</td>\n",
       "      <td>9</td>\n",
       "      <td>13759.05</td>\n",
       "      <td>56.198602</td>\n",
       "      <td>680</td>\n",
       "      <td>20.2339</td>\n",
       "      <td>4</td>\n",
       "      <td>POLYGON ((483311.618 2153254.848, 483332.006 2...</td>\n",
       "    </tr>\n",
       "    <tr>\n",
       "      <th>1</th>\n",
       "      <td>09</td>\n",
       "      <td>AZCAPOTZALCO</td>\n",
       "      <td>02-002</td>\n",
       "      <td>ALDANA</td>\n",
       "      <td>3</td>\n",
       "      <td>14</td>\n",
       "      <td>16423.82</td>\n",
       "      <td>59.779463</td>\n",
       "      <td>1088</td>\n",
       "      <td>15.0954</td>\n",
       "      <td>4</td>\n",
       "      <td>POLYGON ((484406.956 2153012.331, 484401.132 2...</td>\n",
       "    </tr>\n",
       "    <tr>\n",
       "      <th>2</th>\n",
       "      <td>09</td>\n",
       "      <td>AZCAPOTZALCO</td>\n",
       "      <td>02-005</td>\n",
       "      <td>ANGEL ZIMBRON</td>\n",
       "      <td>5</td>\n",
       "      <td>12</td>\n",
       "      <td>26043.99</td>\n",
       "      <td>162.796061</td>\n",
       "      <td>1067</td>\n",
       "      <td>24.4086</td>\n",
       "      <td>4</td>\n",
       "      <td>POLYGON ((480275.324 2152244.351, 480267.968 2...</td>\n",
       "    </tr>\n",
       "    <tr>\n",
       "      <th>3</th>\n",
       "      <td>09</td>\n",
       "      <td>AZCAPOTZALCO</td>\n",
       "      <td>02-006</td>\n",
       "      <td>ARENAL</td>\n",
       "      <td>6</td>\n",
       "      <td>29</td>\n",
       "      <td>30388.07</td>\n",
       "      <td>146.524032</td>\n",
       "      <td>1493</td>\n",
       "      <td>20.3537</td>\n",
       "      <td>4</td>\n",
       "      <td>POLYGON ((484061.118 2152622.284, 484061.678 2...</td>\n",
       "    </tr>\n",
       "    <tr>\n",
       "      <th>4</th>\n",
       "      <td>09</td>\n",
       "      <td>AZCAPOTZALCO</td>\n",
       "      <td>02-007</td>\n",
       "      <td>CENTRO DE AZCAPOTZALCO</td>\n",
       "      <td>7</td>\n",
       "      <td>33</td>\n",
       "      <td>43870.57</td>\n",
       "      <td>280.581326</td>\n",
       "      <td>1118</td>\n",
       "      <td>39.2402</td>\n",
       "      <td>5</td>\n",
       "      <td>POLYGON ((480104.707 2154525.214, 480118.178 2...</td>\n",
       "    </tr>\n",
       "  </tbody>\n",
       "</table>\n",
       "</div>"
      ],
      "text/plain": [
       "  cve_ent      alcaldia cve_col                 colonia  OBJECTID  FREQUENCY  \\\n",
       "0      09  AZCAPOTZALCO  02-001                AGUILERA         2          9   \n",
       "1      09  AZCAPOTZALCO  02-002                  ALDANA         3         14   \n",
       "2      09  AZCAPOTZALCO  02-005           ANGEL ZIMBRON         5         12   \n",
       "3      09  AZCAPOTZALCO  02-006                  ARENAL         6         29   \n",
       "4      09  AZCAPOTZALCO  02-007  CENTRO DE AZCAPOTZALCO         7         33   \n",
       "\n",
       "   SUM_cons_t  MEAN_cons_  VIV2010  PROMVIVCON  C_PROMVIVC  \\\n",
       "0    13759.05   56.198602      680     20.2339           4   \n",
       "1    16423.82   59.779463     1088     15.0954           4   \n",
       "2    26043.99  162.796061     1067     24.4086           4   \n",
       "3    30388.07  146.524032     1493     20.3537           4   \n",
       "4    43870.57  280.581326     1118     39.2402           5   \n",
       "\n",
       "                                            geometry  \n",
       "0  POLYGON ((483311.618 2153254.848, 483332.006 2...  \n",
       "1  POLYGON ((484406.956 2153012.331, 484401.132 2...  \n",
       "2  POLYGON ((480275.324 2152244.351, 480267.968 2...  \n",
       "3  POLYGON ((484061.118 2152622.284, 484061.678 2...  \n",
       "4  POLYGON ((480104.707 2154525.214, 480118.178 2...  "
      ]
     },
     "execution_count": 50,
     "metadata": {},
     "output_type": "execute_result"
    }
   ],
   "source": [
    "df.head()"
   ]
  },
  {
   "cell_type": "code",
   "execution_count": 51,
   "metadata": {},
   "outputs": [],
   "source": [
    "df.to_csv('consumo_agua_bimestral.csv', index=False)"
   ]
  },
  {
   "cell_type": "code",
   "execution_count": null,
   "metadata": {},
   "outputs": [],
   "source": []
  }
 ],
 "metadata": {
  "interpreter": {
   "hash": "fefe1bf480c11bf003fba226430f9cc6591c2a11b0f80c22005b6e46c2183a03"
  },
  "kernelspec": {
   "display_name": "Python 3.9.1 64-bit",
   "language": "python",
   "name": "python3"
  },
  "language_info": {
   "codemirror_mode": {
    "name": "ipython",
    "version": 3
   },
   "file_extension": ".py",
   "mimetype": "text/x-python",
   "name": "python",
   "nbconvert_exporter": "python",
   "pygments_lexer": "ipython3",
   "version": "3.9.1"
  },
  "orig_nbformat": 4
 },
 "nbformat": 4,
 "nbformat_minor": 2
}
