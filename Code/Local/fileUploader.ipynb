{
 "cells": [
  {
   "cell_type": "markdown",
   "metadata": {},
   "source": [
    "# File uploader\n",
    "  - Usamos el API de Cloud Storage para subir los datasets a nuestros buckets"
   ]
  },
  {
   "cell_type": "code",
   "execution_count": 3,
   "metadata": {},
   "outputs": [],
   "source": [
    "import os\n",
    "from google.cloud import storage"
   ]
  },
  {
   "cell_type": "code",
   "execution_count": 4,
   "metadata": {},
   "outputs": [],
   "source": [
    "os.environ['GOOGLE_APPLICATION_CREDENTIALS'] = 'deductive-torus-348920-2fe7fd3fd9b6.json'\n",
    "storage_client = storage.Client()"
   ]
  },
  {
   "cell_type": "code",
   "execution_count": 6,
   "metadata": {},
   "outputs": [],
   "source": [
    "#To upload files\n",
    "def upload_to_bucket(blob_name,file_path, bucket_name):\n",
    "    try:\n",
    "        bucket = storage_client.get_bucket(bucket_name)\n",
    "        data = bucket.blob(blob_name)\n",
    "        data.upload_from_filename(file_path)\n",
    "        return True\n",
    "    except Exception as e:\n",
    "        print(e)\n",
    "        return False"
   ]
  },
  {
   "cell_type": "code",
   "execution_count": 10,
   "metadata": {},
   "outputs": [],
   "source": [
    "#Loop locote\n",
    "datasets = ['centros_comerciales.csv', \n",
    "            'consumo_agua_bimestral.csv', \n",
    "            'hogares_por_colonia.csv', \n",
    "            'poblacion_disponibilidad_agua_vivienda.csv', \n",
    "            'poblacion_total.csv', \n",
    "            'ue_comerciales.csv', \n",
    "            'ue_industriales.csv', \n",
    "            'ue_orientadas_servicios.csv', \n",
    "            'ue_por_colonia.csv', \n",
    "            'viviendas_sin_drenaje.csv']\n",
    "\n",
    "\n",
    "for dataset in datasets:\n",
    "    blob_name= dataset.split('.')[0]\n",
    "    file_path = f\"C:\\\\Users\\\\Ivan\\\\Desktop\\\\Maestria\\\\Big Data\\\\Proyecto Final Pro\\\\Datasets\\\\{dataset}\"\n",
    "    bucket_name = f\"irojasgo_{dataset.split('.')[0]}\"\n",
    "    upload_to_bucket(blob_name, file_path, bucket_name )\n",
    "\n",
    "\n"
   ]
  },
  {
   "cell_type": "code",
   "execution_count": 21,
   "metadata": {},
   "outputs": [
    {
     "data": {
      "text/plain": [
       "True"
      ]
     },
     "execution_count": 21,
     "metadata": {},
     "output_type": "execute_result"
    }
   ],
   "source": [
    "dataset =  'ue_comerciales.csv'\n",
    "blob_name= dataset.split('.')[0]\n",
    "file_path = f\"C:\\\\Users\\\\Ivan\\\\Desktop\\\\Maestria\\\\Big Data\\\\Proyecto Final Pro\\\\Datasets\\\\{dataset}\"\n",
    "bucket_name = f\"irojasgo_{dataset.split('.')[0]}\"\n",
    "upload_to_bucket(blob_name, file_path, bucket_name )"
   ]
  },
  {
   "cell_type": "code",
   "execution_count": 31,
   "metadata": {},
   "outputs": [],
   "source": [
    "#Loop locote gradual\n",
    "datasets = ['centros_comerciales.csv', \n",
    "            'consumo_agua_bimestral.csv',\n",
    "            'hogares_por_colonia.csv',\n",
    "            'poblacion_disponibilidad_agua_vivienda.csv',\n",
    "            'poblacion_total.csv',\n",
    "            'ue_comerciales.csv',\n",
    "            'ue_industriales.csv',\n",
    "            'ue_orientadas_servicios.csv',\n",
    "            'ue_por_colonia.csv'\n",
    "            ]\n",
    "\n",
    "\n",
    "for dataset in datasets:\n",
    "    blob_name= dataset.split('.')[0]\n",
    "    file_path = f\"C:\\\\Users\\\\Ivan\\\\Desktop\\\\Maestria\\\\Big Data\\\\Proyecto Final Pro\\\\Datasets\\\\{dataset}\"\n",
    "    bucket_name = f\"irojasgo_{dataset.split('.')[0]}\"\n",
    "    upload_to_bucket(blob_name, file_path, bucket_name )"
   ]
  },
  {
   "cell_type": "code",
   "execution_count": null,
   "metadata": {},
   "outputs": [],
   "source": []
  }
 ],
 "metadata": {
  "interpreter": {
   "hash": "aee8b7b246df8f9039afb4144a1f6fd8d2ca17a180786b69acc140d282b71a49"
  },
  "kernelspec": {
   "display_name": "Python 3.9.7 64-bit",
   "language": "python",
   "name": "python3"
  },
  "language_info": {
   "codemirror_mode": {
    "name": "ipython",
    "version": 3
   },
   "file_extension": ".py",
   "mimetype": "text/x-python",
   "name": "python",
   "nbconvert_exporter": "python",
   "pygments_lexer": "ipython3",
   "version": "3.9.7"
  },
  "orig_nbformat": 4
 },
 "nbformat": 4,
 "nbformat_minor": 2
}
