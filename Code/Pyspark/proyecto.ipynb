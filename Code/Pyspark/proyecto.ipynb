{
 "cells": [
  {
   "cell_type": "code",
   "execution_count": null,
   "metadata": {},
   "outputs": [],
   "source": [
    "from pyspark.sql import SparkSession"
   ]
  },
  {
   "cell_type": "code",
   "execution_count": null,
   "metadata": {},
   "outputs": [],
   "source": [
    "warehouse_location = '/user/irojasgo/centros_comerciales_hive'\n",
    "spark = SparkSession\\\n",
    "        .builder\\\n",
    "        .appName(\"Spark Test\")\\\n",
    "        .config(\"spark.sql.warehouse.dir\", warehouse_location)\\\n",
    "        .enableHiveSupport()\\\n",
    "        .getOrCreate()\n",
    "df = spark.sql(\"SELECT * FROM centros_comerciales limit 10\")\n",
    "df = df.toPandas()\n",
    "df.rename(columns ={\n",
    "    'tipo':'alcaldia',\n",
    "    'calle':'calle',\n",
    "    'numero':'codigo_postal',\n",
    "    'colonia':'colonia',\n",
    "    'codigo_postal':'numero',\n",
    "    'alcaldia':'tipo'},inplace=True)\n",
    "\n",
    "df.head(10)"
   ]
  },
  {
   "cell_type": "code",
   "execution_count": null,
   "metadata": {},
   "outputs": [],
   "source": [
    "warehouse_location = '/user/irojasgo/consumo_agua_bimestral_hive'\n",
    "spark = SparkSession\\\n",
    "        .builder\\\n",
    "        .appName(\"Spark Test\")\\\n",
    "        .config(\"spark.sql.warehouse.dir\", warehouse_location)\\\n",
    "        .enableHiveSupport()\\\n",
    "        .getOrCreate()\n",
    "df = spark.sql(\"SELECT * FROM consumo_agua_bimestral limit 10\")\n",
    "df = df.toPandas()\n",
    "df.rename(columns ={\n",
    "    'cve_ent':'alcaldia',\n",
    "    'alcaldia':'c_promvivc',\n",
    "    'cve_col':'colonia',\n",
    "    'colonia':'cve_col',\n",
    "    'objectid':'cve_ent',\n",
    "    'frequency':'frequency',\n",
    "    'sum_cons_t':'mean_cons',\n",
    "    'mean_cons':'objectid',\n",
    "    'viv2010':'promvivcon',\n",
    "    'promvivcon':'sum_cons_t',\n",
    "    'c_promvivc':'viv2010'},inplace=True)\n",
    "\n",
    "df.head(10)"
   ]
  },
  {
   "cell_type": "code",
   "execution_count": null,
   "metadata": {},
   "outputs": [],
   "source": [
    "warehouse_location = '/user/irojasgo/hogares_por_colonia_hive'\n",
    "spark = SparkSession\\\n",
    "        .builder\\\n",
    "        .appName(\"Spark Test\")\\\n",
    "        .config(\"spark.sql.warehouse.dir\", warehouse_location)\\\n",
    "        .enableHiveSupport()\\\n",
    "        .getOrCreate()\n",
    "df = spark.sql(\"SELECT * FROM hogares_por_colonia limit 10\")\n",
    "df = df.toPandas()\n",
    "df.rename(columns ={\n",
    "    'cve_ent':'alcaldia',\n",
    "    'alcaldia':'area_ha',\n",
    "    'cve_col':'colonia',\n",
    "    'colonia':'cve_col',\n",
    "    'vivhab2010':'cve_ent',\n",
    "    'vivhab2020':'denviv10',\n",
    "    'area_ha':'denviv20',\n",
    "    'denviv10':'vivhab2020',\n",
    "    'denviv20':'vivhab2010',\n",
    "    'sum_tothog':'sum_tothog'},inplace=True)\n",
    "\n",
    "df.head(10)"
   ]
  },
  {
   "cell_type": "code",
   "execution_count": null,
   "metadata": {},
   "outputs": [],
   "source": [
    "warehouse_location = '/user/irojasgo/poblacion_disponibilidad_agua_vivienda_hive'\n",
    "spark = SparkSession\\\n",
    "        .builder\\\n",
    "        .appName(\"Spark Test\")\\\n",
    "        .config(\"spark.sql.warehouse.dir\", warehouse_location)\\\n",
    "        .enableHiveSupport()\\\n",
    "        .getOrCreate()\n",
    "df = spark.sql(\"SELECT * FROM poblacion_disponibilidad_agua_vivienda limit 10\")\n",
    "df = df.toPandas()\n",
    "df.rename(columns ={\n",
    "    'alcaldia':'alcaldia',\n",
    "    'clave':'clave',\n",
    "    'poblacion':'poblacion',\n",
    "    'poblacion_agua_patio':'poblacion_agua_patio',\n",
    "    'porcentaje_poblacion_agua_patio':'poblacion_agua_pipa',\n",
    "    'poblacion_no_agua_entubada':'poblacion_no_agua_entubada',\n",
    "    'porcentaje_poblacion_no_agua_entubada':'porcentaje_poblacion_agua_patio',\n",
    "    'poblacion_agua_pipa':'porcentaje_poblacion_agua_pipa',\n",
    "    'porcentaje_poblacion_agua_pipa':'porcentaje_poblacion_no_agua_entubada'},inplace=True)\n",
    "\n",
    "\n",
    "df.head(10)"
   ]
  },
  {
   "cell_type": "code",
   "execution_count": null,
   "metadata": {},
   "outputs": [],
   "source": [
    "warehouse_location = '/user/irojasgo/poblacion_total_hive'\n",
    "spark = SparkSession\\\n",
    "        .builder\\\n",
    "        .appName(\"Spark Test\")\\\n",
    "        .config(\"spark.sql.warehouse.dir\", warehouse_location)\\\n",
    "        .enableHiveSupport()\\\n",
    "        .getOrCreate()\n",
    "df = spark.sql(\"SELECT * FROM poblacion_total limit 10\")\n",
    "df = df.toPandas()\n",
    "df.rename(columns ={\n",
    "    'anio':'alcaldia',\n",
    "    'alcaldia':'anio',\n",
    "    'poblacion_total':'poblacion_total'},inplace=True)\n",
    "\n",
    "\n",
    "df.head(10)"
   ]
  },
  {
   "cell_type": "code",
   "execution_count": null,
   "metadata": {},
   "outputs": [],
   "source": [
    "warehouse_location = '/user/irojasgo/ue_comerciales_hive'\n",
    "spark = SparkSession\\\n",
    "        .builder\\\n",
    "        .appName(\"Spark Test\")\\\n",
    "        .config(\"spark.sql.warehouse.dir\", warehouse_location)\\\n",
    "        .enableHiveSupport()\\\n",
    "        .getOrCreate()\n",
    "df = spark.sql(\"SELECT * FROM ue_comerciales limit 10\")\n",
    "df = df.toPandas()\n",
    "df.rename(columns ={\n",
    "    'nombre':'alcaldia',\n",
    "    'entidad':'com',\n",
    "    'cve_alc':'cve_alc',\n",
    "    'alcaldia':'cve_col',\n",
    "    'cve_alc':'cve_alc',\n",
    "    'cve_col':'entidad',\n",
    "    'ue':'ind',\n",
    "    'ind':'nombre',\n",
    "    'com':'serv',\n",
    "    'sup_ha':'sup_ha'},inplace=True)\n",
    "\n",
    "\n",
    "\n",
    "df.head(10)"
   ]
  },
  {
   "cell_type": "code",
   "execution_count": null,
   "metadata": {},
   "outputs": [],
   "source": [
    "spark.stop()"
   ]
  },
  {
   "cell_type": "code",
   "execution_count": null,
   "metadata": {},
   "outputs": [],
   "source": []
  },
  {
   "cell_type": "code",
   "execution_count": null,
   "metadata": {},
   "outputs": [],
   "source": []
  },
  {
   "cell_type": "code",
   "execution_count": null,
   "metadata": {},
   "outputs": [],
   "source": []
  },
  {
   "cell_type": "code",
   "execution_count": null,
   "metadata": {},
   "outputs": [],
   "source": []
  }
 ],
 "metadata": {
  "language_info": {
   "name": "python"
  },
  "orig_nbformat": 4
 },
 "nbformat": 4,
 "nbformat_minor": 2
}
